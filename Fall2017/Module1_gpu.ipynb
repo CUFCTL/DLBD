{
 "cells": [
  {
   "cell_type": "markdown",
   "metadata": {},
   "source": [
    "# Module 1: Introduction to Neural Nets "
   ]
  },
  {
   "cell_type": "markdown",
   "metadata": {},
   "source": [
    "The aim of this module is to introduce you to designing simple neural networks. You've already seen how to load data in PyTorch and a sample script of the overall workflow. In this notebook, you'll implement your own neural network and report on it's performance. "
   ]
  },
  {
   "cell_type": "markdown",
   "metadata": {},
   "source": [
    "## Gathering data "
   ]
  },
  {
   "cell_type": "markdown",
   "metadata": {},
   "source": [
    "We'll use the dataloading module we developed earlier. "
   ]
  },
  {
   "cell_type": "code",
   "execution_count": 3,
   "metadata": {
    "collapsed": true
   },
   "outputs": [],
   "source": [
    "import sys, os \n",
    "import pickle \n",
    "import torch \n",
    "import torch.utils.data as data \n",
    "import glob\n",
    "from PIL import Image\n",
    "import numpy as np\n",
    "\n",
    "\n",
    "def unpickle(fname):\n",
    "    with open(fname, 'rb') as f:\n",
    "        Dict = pickle.load(f, encoding='bytes')\n",
    "    return Dict\n",
    "\n",
    "def load_data(batch):\n",
    "    print (\"Loading batch:{}\".format(batch))\n",
    "    return unpickle(batch)\n",
    "\n",
    "\n",
    "class CIFARLoader(data.Dataset):\n",
    "    \"\"\"\n",
    "    CIFAR-10 Loader: Loads the CIFAR-10 data according to an index value \n",
    "    and returns the data and the labels. \n",
    "    \n",
    "    args:\n",
    "    root: Root of the data directory.\n",
    "    \n",
    "    Optional args:\n",
    "    transforms: The transforms you wish to apply to the data.\n",
    "    target_transforms: The transforms you wish to apply to the labels.\n",
    "    \n",
    "    \"\"\"\n",
    "    def __init__(self, root, train=True, transform=None, target_transform=None):\n",
    "        self.root = root \n",
    "        self.transform = transform \n",
    "        self.target_transform = target_transform\n",
    "        self.train = train\n",
    "        patt = os.path.join(self.root, 'data_batch_*') # create the pattern we want to search for.\n",
    "        self.batches = sorted(glob.glob(patt))\n",
    "        self.train_data = []\n",
    "        self.train_labels = []\n",
    "        self.test_data = []\n",
    "        self.test_labels = []\n",
    "        \n",
    "        if self.train:\n",
    "            for batch in self.batches:\n",
    "                entry = {} \n",
    "                entry = load_data(batch)\n",
    "                self.train_data.append(entry[b'data'])\n",
    "                self.train_labels += entry[b'labels']\n",
    "        else:\n",
    "            entry = load_data(os.path.join(self.root, 'test_batch'))\n",
    "            self.test_data.append(entry[b'data'])\n",
    "            self.test_labels += entry[b'labels']\n",
    "        #############################################\n",
    "        # We need to \"concatenate\" all the different #\n",
    "        # training samples into one big array. For   #\n",
    "        # doing that we're going to use a numpy      # \n",
    "        # function called \"concatenate\".             # \n",
    "        ##############################################\n",
    "        if self.train:\n",
    "            self.train_data = np.concatenate(self.train_data) \n",
    "            self.train_data = self.train_data.reshape((50000, 3, 32,32))\n",
    "            self.train_data = self.train_data.transpose((0,2,3,1)) # pay attention to this step!\n",
    "        else: \n",
    "            self.test_data = np.concatenate(self.test_data)\n",
    "            self.test_data = self.test_data.reshape((10000, 3,32,32))\n",
    "            self.test_data = self.test_data.transpose((0,2,3,1))\n",
    "        \n",
    "        \n",
    "    \n",
    "    def __getitem__(self, index):\n",
    "        \n",
    "        if self.train:\n",
    "            image = self.train_data[index]\n",
    "            label = self.train_labels[index]\n",
    "        else:\n",
    "            image = self.test_data[index]\n",
    "            label = self.test_labels[index]\n",
    "        \n",
    "        if self.transform is not None:\n",
    "            image = self.transform(image)\n",
    "        if self.target_transform is not None:\n",
    "            label = self.target_transform(label)\n",
    "#         print(image.size())\n",
    "        return image, label\n",
    "    \n",
    "    def __len__(self):\n",
    "        if self.train:\n",
    "            return len(self.train_data)\n",
    "        else:\n",
    "            return len(self.test_data)\n",
    "\n",
    "\n"
   ]
  },
  {
   "cell_type": "markdown",
   "metadata": {},
   "source": [
    "Given the dataset, let's test our dataset by seeing some of the images and their corresponding labels. PyTorch provides us with a neat little function called make_grid which plots \"x\" number of images together in a grid. "
   ]
  },
  {
   "cell_type": "code",
   "execution_count": 4,
   "metadata": {},
   "outputs": [
    {
     "name": "stdout",
     "output_type": "stream",
     "text": [
      "Loading batch:/home/akulshr/cifar-10-batches-py/data_batch_1\n",
      "Loading batch:/home/akulshr/cifar-10-batches-py/data_batch_2\n",
      "Loading batch:/home/akulshr/cifar-10-batches-py/data_batch_3\n",
      "Loading batch:/home/akulshr/cifar-10-batches-py/data_batch_4\n",
      "Loading batch:/home/akulshr/cifar-10-batches-py/data_batch_5\n"
     ]
    },
    {
     "data": {
      "image/png": "[encoded data removed]",
      "text/plain": [
       "<matplotlib.figure.Figure at 0x2b900b12a2e8>"
      ]
     },
     "metadata": {},
     "output_type": "display_data"
    },
    {
     "data": {
      "text/plain": [
       "'car frog frog ship'"
      ]
     },
     "execution_count": 4,
     "metadata": {},
     "output_type": "execute_result"
    }
   ],
   "source": [
    "import torchvision.transforms as transforms\n",
    "import torch.utils.data as data\n",
    "import numpy as np \n",
    "import matplotlib.pyplot as plt\n",
    "import torchvision\n",
    "\n",
    "def imshow(torch_tensor):\n",
    "    torch_tensor = torch_tensor/2 + 0.5\n",
    "    npimg = torch_tensor.numpy()\n",
    "    plt.imshow(npimg.transpose(1,2,0))\n",
    "    plt.show()\n",
    "\n",
    "    \n",
    "\n",
    "tfs  = transforms.Compose([transforms.ToTensor(),\n",
    "                          transforms.Normalize((0.5,0.5,0.5), (0.5,0.5,0.5))])\n",
    "\n",
    "root='/home/akulshr/cifar-10-batches-py/'\n",
    "\n",
    "cifar_train = CIFARLoader(root, train=True, transform=tfs) # create a \"CIFARLoader instance\".\n",
    "cifar_loader = data.DataLoader(cifar_train, batch_size=4, shuffle=True, num_workers=2)\n",
    "\n",
    "# all possible classes in the CIFAR-10 dataset\n",
    "classes = ('plane', 'car', 'bird', 'cat',\n",
    "           'deer', 'dog', 'frog', 'horse', 'ship', 'truck')\n",
    "\n",
    "data_iter = iter(cifar_loader)\n",
    "data,label = data_iter.next()\n",
    "\n",
    "#visualize data.\n",
    "imshow(torchvision.utils.make_grid(data))\n",
    "\n",
    "# print the labels\n",
    "' '.join(classes[label[j]] for j in range(4))\n"
   ]
  },
  {
   "cell_type": "markdown",
   "metadata": {},
   "source": [
    "### Checking for GPU"
   ]
  },
  {
   "cell_type": "code",
   "execution_count": 6,
   "metadata": {},
   "outputs": [
    {
     "name": "stdout",
     "output_type": "stream",
     "text": [
      "True\n"
     ]
    }
   ],
   "source": [
    "# checking for GPU can simply be done by adding the following code \n",
    "gpu_avail = torch.cuda.is_available()\n",
    "print(gpu_avail)"
   ]
  },
  {
   "cell_type": "markdown",
   "metadata": {},
   "source": [
    "## Creating a Neural Network "
   ]
  },
  {
   "cell_type": "markdown",
   "metadata": {},
   "source": [
    "Now that we're through with the boring part, let's move on to the fun stuff! In the code stub being provided you can write your own network definition and then print it. We've not covered Convolutional Layers yet, so the fun will be limited to just using Linear Layers. When using linear layers keep in mind that the input features are `3*32*32`.  When writing out the layers it is important to think in terms of matrix multiplication. So if your input features are of dimension `4x3x32x32` then your input features must be the same dimensions. I'll define some terms so that you can use them while designing the net: \n",
    "\n",
    "\n",
    "- N: The batch size --> This determines how many images are pushed through the network during an iteration. \n",
    "- C: The number of channels --> It's an RGB image hence we set this to 3. \n",
    "- H,W: The height and width of the image. \n",
    "\n",
    "Your input to a network is usually `NxCxHxW`. Now a linear layer expects a single number as an input feature, so for a batch size of 1 your input features will be `3072(3*32*32)`."
   ]
  },
  {
   "cell_type": "code",
   "execution_count": 1,
   "metadata": {
    "collapsed": true
   },
   "outputs": [],
   "source": [
    "import torch.nn as nn \n",
    "\n",
    "class MyNet(nn.Module):\n",
    "    \"\"\"\n",
    "    Your neural network here. \n",
    "    bs: Batch size, you can include\n",
    "    or leave it out.\n",
    "    \"\"\"\n",
    "    def __init__(self, bs):\n",
    "        super(MyNet, self).__init__()\n",
    "        pass\n",
    "    \n",
    "    def forward(self, x):\n",
    "        pass"
   ]
  },
  {
   "cell_type": "code",
   "execution_count": 7,
   "metadata": {},
   "outputs": [
    {
     "ename": "NameError",
     "evalue": "name 'MyNet' is not defined",
     "output_type": "error",
     "traceback": [
      "\u001b[0;31m---------------------------------------------------------------------------\u001b[0m",
      "\u001b[0;31mNameError\u001b[0m                                 Traceback (most recent call last)",
      "\u001b[0;32m<ipython-input-7-0c3852ebd811>\u001b[0m in \u001b[0;36m<module>\u001b[0;34m()\u001b[0m\n\u001b[0;32m----> 1\u001b[0;31m \u001b[0mnet\u001b[0m \u001b[0;34m=\u001b[0m \u001b[0mMyNet\u001b[0m\u001b[0;34m(\u001b[0m\u001b[0;36m4\u001b[0m\u001b[0;34m)\u001b[0m \u001b[0;31m# be sure to put any additional parameters you pass to __init__ here\u001b[0m\u001b[0;34m\u001b[0m\u001b[0m\n\u001b[0m\u001b[1;32m      2\u001b[0m \u001b[0;32mif\u001b[0m \u001b[0mgpu_avail\u001b[0m\u001b[0;34m:\u001b[0m\u001b[0;34m\u001b[0m\u001b[0m\n\u001b[1;32m      3\u001b[0m     \u001b[0mnet\u001b[0m \u001b[0;34m=\u001b[0m \u001b[0mnet\u001b[0m\u001b[0;34m.\u001b[0m\u001b[0mcuda\u001b[0m\u001b[0;34m(\u001b[0m\u001b[0;34m)\u001b[0m \u001b[0;31m# Move the net to the GPU.\u001b[0m\u001b[0;34m\u001b[0m\u001b[0m\n\u001b[1;32m      4\u001b[0m \u001b[0mprint\u001b[0m\u001b[0;34m(\u001b[0m\u001b[0mnet\u001b[0m\u001b[0;34m)\u001b[0m\u001b[0;34m\u001b[0m\u001b[0m\n",
      "\u001b[0;31mNameError\u001b[0m: name 'MyNet' is not defined"
     ]
    }
   ],
   "source": [
    "net = MyNet(4) # be sure to put any additional parameters you pass to __init__ here \n",
    "if gpu_avail:\n",
    "    net = net.cuda() # Move the net to the GPU.\n",
    "print(net)"
   ]
  },
  {
   "cell_type": "markdown",
   "metadata": {},
   "source": [
    "If we have a gpu then we need to \"move\" the network to the GPU. Under the hood, it copies the weights and the biases that are in CPU memory over to the GPU memory. In PyTorch, all of this can be accomplished by checking for GPU and then appending `cuda()` after the net. "
   ]
  },
  {
   "cell_type": "markdown",
   "metadata": {},
   "source": [
    "## Training the Network "
   ]
  },
  {
   "cell_type": "markdown",
   "metadata": {},
   "source": [
    "Having defined our network and tested that our dataloader works to our satisfaction, we're going to train the network. For your convenience, the training script is included and it is highly recommended that you try to gain a sense of what's happening. We'll talk more about training in the coming meetings. "
   ]
  },
  {
   "cell_type": "markdown",
   "metadata": {},
   "source": [
    "### Using  GPUs for training"
   ]
  },
  {
   "cell_type": "markdown",
   "metadata": {},
   "source": [
    "In order to use GPUs for training, we also need to move our data on the GPU. Since data is a tensor, we can move them in the similar way we moved our `MyNet` i.e. appending `cuda()` after checking for a GPU. "
   ]
  },
  {
   "cell_type": "code",
   "execution_count": 8,
   "metadata": {},
   "outputs": [
    {
     "name": "stdout",
     "output_type": "stream",
     "text": [
      "Loading batch:/home/akulshr/cifar-10-batches-py/data_batch_1\n",
      "Loading batch:/home/akulshr/cifar-10-batches-py/data_batch_2\n",
      "Loading batch:/home/akulshr/cifar-10-batches-py/data_batch_3\n",
      "Loading batch:/home/akulshr/cifar-10-batches-py/data_batch_4\n",
      "Loading batch:/home/akulshr/cifar-10-batches-py/data_batch_5\n"
     ]
    },
    {
     "ename": "NameError",
     "evalue": "name 'nn' is not defined",
     "output_type": "error",
     "traceback": [
      "\u001b[0;31m---------------------------------------------------------------------------\u001b[0m",
      "\u001b[0;31mNameError\u001b[0m                                 Traceback (most recent call last)",
      "\u001b[0;32m<ipython-input-8-f49fa3bdbcbc>\u001b[0m in \u001b[0;36m<module>\u001b[0;34m()\u001b[0m\n\u001b[1;32m     11\u001b[0m \u001b[0mcifar_train_loader\u001b[0m \u001b[0;34m=\u001b[0m \u001b[0mdata\u001b[0m\u001b[0;34m.\u001b[0m\u001b[0mDataLoader\u001b[0m\u001b[0;34m(\u001b[0m\u001b[0mcifar_train\u001b[0m\u001b[0;34m,\u001b[0m \u001b[0mbatch_size\u001b[0m\u001b[0;34m=\u001b[0m\u001b[0;36m4\u001b[0m\u001b[0;34m,\u001b[0m \u001b[0mshuffle\u001b[0m\u001b[0;34m=\u001b[0m\u001b[0;32mTrue\u001b[0m\u001b[0;34m,\u001b[0m \u001b[0mnum_workers\u001b[0m\u001b[0;34m=\u001b[0m\u001b[0;36m2\u001b[0m\u001b[0;34m)\u001b[0m\u001b[0;34m\u001b[0m\u001b[0m\n\u001b[1;32m     12\u001b[0m \u001b[0;34m\u001b[0m\u001b[0m\n\u001b[0;32m---> 13\u001b[0;31m \u001b[0mlossfn\u001b[0m \u001b[0;34m=\u001b[0m \u001b[0mnn\u001b[0m\u001b[0;34m.\u001b[0m\u001b[0mNLLLoss\u001b[0m\u001b[0;34m(\u001b[0m\u001b[0;34m)\u001b[0m\u001b[0;34m\u001b[0m\u001b[0m\n\u001b[0m\u001b[1;32m     14\u001b[0m \u001b[0moptimz\u001b[0m \u001b[0;34m=\u001b[0m \u001b[0moptim\u001b[0m\u001b[0;34m.\u001b[0m\u001b[0mSGD\u001b[0m\u001b[0;34m(\u001b[0m\u001b[0mnet\u001b[0m\u001b[0;34m.\u001b[0m\u001b[0mparameters\u001b[0m\u001b[0;34m(\u001b[0m\u001b[0;34m)\u001b[0m\u001b[0;34m,\u001b[0m \u001b[0mlr\u001b[0m\u001b[0;34m=\u001b[0m\u001b[0;36m1e-3\u001b[0m\u001b[0;34m,\u001b[0m \u001b[0mmomentum\u001b[0m\u001b[0;34m=\u001b[0m\u001b[0;36m0.9\u001b[0m\u001b[0;34m)\u001b[0m\u001b[0;34m\u001b[0m\u001b[0m\n\u001b[1;32m     15\u001b[0m \u001b[0;34m\u001b[0m\u001b[0m\n",
      "\u001b[0;31mNameError\u001b[0m: name 'nn' is not defined"
     ]
    }
   ],
   "source": [
    "import torch.optim as optim \n",
    "import torch.utils.data as data \n",
    "from torch.autograd import Variable \n",
    "\n",
    "tfs  = transforms.Compose([transforms.ToTensor(),\n",
    "                          transforms.Normalize((0.5,0.5,0.5), (0.5,0.5,0.5))])\n",
    "\n",
    "root='/home/akulshr/cifar-10-batches-py/'\n",
    "\n",
    "cifar_train = CIFARLoader(root, transform=tfs) # create a \"CIFARLoader instance\".\n",
    "cifar_train_loader = data.DataLoader(cifar_train, batch_size=4, shuffle=True, num_workers=2)\n",
    "\n",
    "lossfn = nn.NLLLoss()\n",
    "optimz = optim.SGD(net.parameters(), lr=1e-3, momentum=0.9)\n",
    "\n",
    "def train(net):\n",
    "    net.train()\n",
    "    for ep in range(2):\n",
    "        running_loss = 0.0\n",
    "        for ix, (img,label) in enumerate(cifar_train_loader, 0):\n",
    "            if gpu_avail:\n",
    "                img = img.cuda()\n",
    "                label = label.cuda()\n",
    "            img_var = Variable(img)\n",
    "            label_var = Variable(label)\n",
    "            optimz.zero_grad()\n",
    "#             print(img_var.size())\n",
    "            op = net(img_var)\n",
    "            loss = lossfn(op, label_var)\n",
    "            loss.backward()\n",
    "            optimz.step()\n",
    "            \n",
    "            running_loss += loss.data[0]\n",
    "            if ix%2000 == 1999:\n",
    "                print(\"[%d/%5d] Loss: %f\"%(ep+1, ix+1, running_loss/2000))\n",
    "                running_loss = 0.0\n",
    "    print(\"Finished Training\\n\")\n",
    "                \n",
    "            \n",
    "            \n",
    "\n"
   ]
  },
  {
   "cell_type": "code",
   "execution_count": 91,
   "metadata": {},
   "outputs": [
    {
     "name": "stdout",
     "output_type": "stream",
     "text": [
      "[1/ 2000] Loss: 1.919267\n",
      "[1/ 4000] Loss: 1.846389\n",
      "[1/ 6000] Loss: 1.832226\n",
      "[1/ 8000] Loss: 1.796609\n",
      "[1/10000] Loss: 1.804408\n",
      "[1/12000] Loss: 1.790879\n",
      "[2/ 2000] Loss: 1.776006\n",
      "[2/ 4000] Loss: 1.771522\n",
      "[2/ 6000] Loss: 1.769797\n",
      "[2/ 8000] Loss: 1.774239\n",
      "[2/10000] Loss: 1.789092\n",
      "[2/12000] Loss: 1.765049\n",
      "Finished Training\n",
      "\n"
     ]
    }
   ],
   "source": [
    "train(net)"
   ]
  },
  {
   "cell_type": "markdown",
   "metadata": {},
   "source": [
    "So far we've trained the network and we're seeing some output loss. However, that's only one part of the story, since we need the model to perform well on *unseen* inputs. In order to do that we'll evaluate the dataset on the test_batch. "
   ]
  },
  {
   "cell_type": "code",
   "execution_count": 93,
   "metadata": {},
   "outputs": [
    {
     "name": "stdout",
     "output_type": "stream",
     "text": [
      "Loading batch:/home/akulshr/cifar-10-batches-py/test_batch\n"
     ]
    },
    {
     "data": {
      "image/png": "[encoded data removed]",
      "text/plain": [
       "<matplotlib.figure.Figure at 0x7effcabd0908>"
      ]
     },
     "metadata": {},
     "output_type": "display_data"
    },
    {
     "name": "stdout",
     "output_type": "stream",
     "text": [
      "Ground Truth: \n",
      "cat ship ship plane\n"
     ]
    }
   ],
   "source": [
    "\n",
    "def imshow(torch_tensor):\n",
    "    torch_tensor = torch_tensor/2 + 0.5\n",
    "    npimg = torch_tensor.numpy()\n",
    "    plt.imshow(npimg.transpose(1,2,0))\n",
    "    plt.show()\n",
    "\n",
    "    \n",
    "tfs  = transforms.Compose([transforms.ToTensor(),\n",
    "                          transforms.Normalize((0.5,0.5,0.5), (0.5,0.5,0.5))])\n",
    "\n",
    "root='/home/akulshr/cifar-10-batches-py/'\n",
    "\n",
    "cifar_test = CIFARLoader(root, train=False, transform=tfs)\n",
    "cifar_test_loader = data.DataLoader(cifar_test,batch_size=4, shuffle=False, num_workers=2)\n",
    "\n",
    "# all possible classes in the CIFAR-10 dataset\n",
    "classes = ('plane', 'car', 'bird', 'cat',\n",
    "           'deer', 'dog', 'frog', 'horse', 'ship', 'truck')\n",
    "\n",
    "data_iter = iter(cifar_test_loader)\n",
    "imgs,label = data_iter.next()\n",
    "\n",
    "# Show the test images.\n",
    "imshow(torchvision.utils.make_grid(imgs))\n",
    "\n",
    "# Print the \"Ground Truth labels\" \n",
    "print(\"Ground Truth: \")\n",
    "print(' '.join(classes[label[j]] for j in range(4)))\n",
    "\n",
    "\n",
    "\n",
    "\n",
    "\n",
    "\n"
   ]
  },
  {
   "cell_type": "markdown",
   "metadata": {},
   "source": [
    "So we've got these images along with their labels as \"ground truth\". Now let's ask the neural network we just trained as to what it thinks the images are"
   ]
  },
  {
   "cell_type": "code",
   "execution_count": 9,
   "metadata": {},
   "outputs": [
    {
     "ename": "NameError",
     "evalue": "name 'cifar_test_loader' is not defined",
     "output_type": "error",
     "traceback": [
      "\u001b[0;31m---------------------------------------------------------------------------\u001b[0m",
      "\u001b[0;31mNameError\u001b[0m                                 Traceback (most recent call last)",
      "\u001b[0;32m<ipython-input-9-bf04d8f31a45>\u001b[0m in \u001b[0;36m<module>\u001b[0;34m()\u001b[0m\n\u001b[1;32m      7\u001b[0m \u001b[0;31m#                                                 #\u001b[0m\u001b[0;34m\u001b[0m\u001b[0;34m\u001b[0m\u001b[0m\n\u001b[1;32m      8\u001b[0m \u001b[0;31m#################################################\u001b[0m\u001b[0;34m\u001b[0m\u001b[0;34m\u001b[0m\u001b[0m\n\u001b[0;32m----> 9\u001b[0;31m \u001b[0mdata_iter\u001b[0m \u001b[0;34m=\u001b[0m \u001b[0miter\u001b[0m\u001b[0;34m(\u001b[0m\u001b[0mcifar_test_loader\u001b[0m\u001b[0;34m)\u001b[0m\u001b[0;34m\u001b[0m\u001b[0m\n\u001b[0m\u001b[1;32m     10\u001b[0m \u001b[0mimgs\u001b[0m\u001b[0;34m,\u001b[0m\u001b[0mlabel\u001b[0m \u001b[0;34m=\u001b[0m \u001b[0mdata_iter\u001b[0m\u001b[0;34m.\u001b[0m\u001b[0mnext\u001b[0m\u001b[0;34m(\u001b[0m\u001b[0;34m)\u001b[0m\u001b[0;34m\u001b[0m\u001b[0m\n\u001b[1;32m     11\u001b[0m \u001b[0mop\u001b[0m \u001b[0;34m=\u001b[0m \u001b[0mnet\u001b[0m\u001b[0;34m(\u001b[0m\u001b[0mVariable\u001b[0m\u001b[0;34m(\u001b[0m\u001b[0mimgs\u001b[0m\u001b[0;34m)\u001b[0m\u001b[0;34m)\u001b[0m\u001b[0;34m\u001b[0m\u001b[0m\n",
      "\u001b[0;31mNameError\u001b[0m: name 'cifar_test_loader' is not defined"
     ]
    }
   ],
   "source": [
    "##################################################\n",
    "# If you're using GPUs for training, then care   #\n",
    "# must be taken to use \"cpu()\" before getting any #                             \n",
    "# data for printing, displaying etc.              #\n",
    "# e.g\n",
    "# _, pred = torch.max(op.cpu().data)              #\n",
    "#                                                 #\n",
    "#################################################\n",
    "data_iter = iter(cifar_test_loader)\n",
    "imgs,label = data_iter.next()\n",
    "op = net(Variable(imgs))\n",
    "_, pred = torch.max(op.data, 1)\n",
    "print(\"Guessed class: \")\n",
    "print(' '.join(classes[pred[j]] for j in range(4)))"
   ]
  },
  {
   "cell_type": "markdown",
   "metadata": {},
   "source": [
    "Pretty sweet! our neural network seems to have learnt something. Let's see how it does on the overall dataset:"
   ]
  },
  {
   "cell_type": "code",
   "execution_count": 100,
   "metadata": {},
   "outputs": [
    {
     "name": "stdout",
     "output_type": "stream",
     "text": [
      "accuracy: 37.950000\n"
     ]
    }
   ],
   "source": [
    "correct = 0.0\n",
    "total = 0.0\n",
    "for cache in cifar_test_loader:\n",
    "    img, label = cache \n",
    "    op = net(Variable(img))\n",
    "    _, pred = torch.max(op.data, 1)\n",
    "    total += label.size(0)\n",
    "    correct += (pred==label).sum()\n",
    "\n",
    "\n",
    "print(\"accuracy: %f\"%(100*(correct/total)))"
   ]
  },
  {
   "cell_type": "markdown",
   "metadata": {},
   "source": [
    "Try out different combinations of neural network layers (limited to Linear, Softmax for now) and report on how the accuracy changes. Happy deep learning!"
   ]
  },
  {
   "cell_type": "code",
   "execution_count": null,
   "metadata": {
    "collapsed": true
   },
   "outputs": [],
   "source": []
  }
 ],
 "metadata": {
  "kernelspec": {
   "display_name": "ak",
   "language": "python",
   "name": "ak"
  },
  "language_info": {
   "codemirror_mode": {
    "name": "ipython",
    "version": 3
   },
   "file_extension": ".py",
   "mimetype": "text/x-python",
   "name": "python",
   "nbconvert_exporter": "python",
   "pygments_lexer": "ipython3",
   "version": "3.5.3"
  }
 },
 "nbformat": 4,
 "nbformat_minor": 2
}
